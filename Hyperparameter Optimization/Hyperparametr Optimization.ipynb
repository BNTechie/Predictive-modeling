{
 "cells": [
  {
   "cell_type": "code",
   "execution_count": 1,
   "id": "a2f78c5f-eeda-472d-8957-c3518c29d17f",
   "metadata": {},
   "outputs": [],
   "source": [
    "#!pip install scikit-learn hyperopt\n"
   ]
  },
  {
   "cell_type": "code",
   "execution_count": 2,
   "id": "42f22dc3-b7dc-40b9-b34c-377e09f5aae6",
   "metadata": {},
   "outputs": [],
   "source": [
    "import numpy as np\n",
    "import pandas as pd\n",
    "import matplotlib.pyplot as plt\n",
    "import seaborn as sns\n",
    "from sklearn.datasets import load_iris\n",
    "from sklearn.model_selection import train_test_split, GridSearchCV, RandomizedSearchCV\n",
    "from sklearn.ensemble import RandomForestClassifier\n",
    "from sklearn.metrics import classification_report, accuracy_score\n",
    "from hyperopt import hp, fmin, tpe, STATUS_OK, Trials\n",
    "from hyperopt.pyll.base import scope"
   ]
  },
  {
   "cell_type": "code",
   "execution_count": 3,
   "id": "8d38cd10-cb65-437a-9a5f-14b49da886b8",
   "metadata": {},
   "outputs": [],
   "source": [
    "# Load the Iris dataset\n",
    "iris = load_iris()\n",
    "X = iris.data\n",
    "y = iris.target\n",
    "\n",
    "# Split the dataset into training and testing sets\n",
    "X_train, X_test, y_train, y_test = train_test_split(X, y, test_size=0.2, random_state=42)\n"
   ]
  },
  {
   "cell_type": "code",
   "execution_count": 4,
   "id": "099fdf7f-9451-4175-bee7-0a67b4b698b1",
   "metadata": {},
   "outputs": [
    {
     "name": "stdout",
     "output_type": "stream",
     "text": [
      "Fitting 5 folds for each of 108 candidates, totalling 540 fits\n",
      "Grid Search Best Hyperparameters: {'max_depth': None, 'min_samples_leaf': 2, 'min_samples_split': 2, 'n_estimators': 200}\n",
      "Grid Search Accuracy: 1.00\n"
     ]
    }
   ],
   "source": [
    "# Grid Search Cross-Validation\n",
    "rf = RandomForestClassifier(random_state=42)\n",
    "param_grid = {\n",
    "    'n_estimators': [50, 100, 200],\n",
    "    'max_depth': [None, 10, 20, 30],\n",
    "    'min_samples_split': [2, 5, 10],\n",
    "    'min_samples_leaf': [1, 2, 4]\n",
    "}\n",
    "grid_search = GridSearchCV(estimator=rf, param_grid=param_grid, cv=5, n_jobs=-1, verbose=2)\n",
    "grid_search.fit(X_train, y_train)\n",
    "print(f'Grid Search Best Hyperparameters: {grid_search.best_params_}')\n",
    "best_rf = grid_search.best_estimator_\n",
    "y_pred = best_rf.predict(X_test)\n",
    "print(f'Grid Search Accuracy: {accuracy_score(y_test, y_pred):.2f}')\n"
   ]
  },
  {
   "cell_type": "code",
   "execution_count": 5,
   "id": "086fc672-0b81-4274-8689-b224e80317a9",
   "metadata": {},
   "outputs": [
    {
     "name": "stdout",
     "output_type": "stream",
     "text": [
      "Fitting 5 folds for each of 50 candidates, totalling 250 fits\n",
      "Random Search Best Hyperparameters: {'n_estimators': 200, 'min_samples_split': 2, 'min_samples_leaf': 2, 'max_depth': 30}\n",
      "Random Search Accuracy: 1.00\n"
     ]
    }
   ],
   "source": [
    "# Random Search Cross-Validation\n",
    "param_dist = {\n",
    "    'n_estimators': [50, 100, 200, 300, 400],\n",
    "    'max_depth': [None, 10, 20, 30, 40],\n",
    "    'min_samples_split': [2, 5, 10, 15],\n",
    "    'min_samples_leaf': [1, 2, 4, 6]\n",
    "}\n",
    "random_search = RandomizedSearchCV(estimator=rf, param_distributions=param_dist, n_iter=50, cv=5, n_jobs=-1, verbose=2, random_state=42)\n",
    "random_search.fit(X_train, y_train)\n",
    "print(f'Random Search Best Hyperparameters: {random_search.best_params_}')\n",
    "best_rf_random = random_search.best_estimator_\n",
    "y_pred_random = best_rf_random.predict(X_test)\n",
    "print(f'Random Search Accuracy: {accuracy_score(y_test, y_pred_random):.2f}')\n"
   ]
  },
  {
   "cell_type": "code",
   "execution_count": 6,
   "id": "38d5330a-a8e4-4d57-b9a8-48930a98e19f",
   "metadata": {},
   "outputs": [
    {
     "name": "stdout",
     "output_type": "stream",
     "text": [
      "100%|███████████████████████| 50/50 [00:07<00:00,  6.51trial/s, best loss: -1.0]\n",
      "Bayesian Optimization Best Hyperparameters: {'max_depth': 35.0, 'min_samples_leaf': 9.0, 'min_samples_split': 13.0, 'n_estimators': 250.0}\n",
      "Bayesian Optimization Accuracy: 1.00\n"
     ]
    }
   ],
   "source": [
    "# Bayesian Optimization with Hyperopt\n",
    "space = {\n",
    "    'n_estimators': scope.int(hp.quniform('n_estimators', 50, 300, 50)),\n",
    "    'max_depth': scope.int(hp.quniform('max_depth', 5, 50, 5)),\n",
    "    'min_samples_split': scope.int(hp.quniform('min_samples_split', 2, 20, 1)),\n",
    "    'min_samples_leaf': scope.int(hp.quniform('min_samples_leaf', 1, 10, 1))\n",
    "}\n",
    "def objective(params):\n",
    "    clf = RandomForestClassifier(**params, random_state=42)\n",
    "    clf.fit(X_train, y_train)\n",
    "    y_pred = clf.predict(X_test)\n",
    "    accuracy = accuracy_score(y_test, y_pred)\n",
    "    return {'loss': -accuracy, 'status': STATUS_OK}\n",
    "trials = Trials()\n",
    "best = fmin(fn=objective, space=space, algo=tpe.suggest, max_evals=50, trials=trials, rstate=np.random.default_rng(42))\n",
    "print(f'Bayesian Optimization Best Hyperparameters: {best}')\n",
    "best_rf_bayes = RandomForestClassifier(n_estimators=int(best['n_estimators']),\n",
    "                                       max_depth=int(best['max_depth']),\n",
    "                                       min_samples_split=int(best['min_samples_split']),\n",
    "                                       min_samples_leaf=int(best['min_samples_leaf']),\n",
    "                                       random_state=42)\n",
    "best_rf_bayes.fit(X_train, y_train)\n",
    "y_pred_bayes = best_rf_bayes.predict(X_test)\n",
    "print(f'Bayesian Optimization Accuracy: {accuracy_score(y_test, y_pred_bayes):.2f}')\n"
   ]
  },
  {
   "cell_type": "code",
   "execution_count": null,
   "id": "dc37897b-f0e8-4f5e-b894-9cd9de5f486d",
   "metadata": {},
   "outputs": [],
   "source": []
  }
 ],
 "metadata": {
  "kernelspec": {
   "display_name": "Python 3 (ipykernel)",
   "language": "python",
   "name": "python3"
  },
  "language_info": {
   "codemirror_mode": {
    "name": "ipython",
    "version": 3
   },
   "file_extension": ".py",
   "mimetype": "text/x-python",
   "name": "python",
   "nbconvert_exporter": "python",
   "pygments_lexer": "ipython3",
   "version": "3.12.4"
  }
 },
 "nbformat": 4,
 "nbformat_minor": 5
}
